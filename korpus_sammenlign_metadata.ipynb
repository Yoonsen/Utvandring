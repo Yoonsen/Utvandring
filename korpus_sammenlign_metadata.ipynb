{
 "cells": [
  {
   "cell_type": "markdown",
   "metadata": {},
   "source": [
    "# Undersøk korpus med metadata\n",
    "\n",
    "Notebook for å undersøke korpus med metadata\n"
   ]
  },
  {
   "cell_type": "code",
   "execution_count": null,
   "metadata": {},
   "outputs": [],
   "source": [
    "import nbtext as nb\n",
    "from nbtext import Corpus\n",
    "%matplotlib inline"
   ]
  },
  {
   "cell_type": "markdown",
   "metadata": {},
   "source": [
    "Kommandoen for å lage et korpus er *Corpus()* som bygger et korpus av tekster som sammenlignes med en referanse. I det her eksemplet bygges referansen samtidig, men i et ideelt tilfelle kan vi ønske å la referansen være ferdigbygd et sted."
   ]
  },
  {
   "cell_type": "code",
   "execution_count": null,
   "metadata": {},
   "outputs": [],
   "source": [
    "objekt = Corpus(\n",
    "    period=(1950, 2010),\n",
    "    title='%',\n",
    "    subject='krig',\n",
    "    ddk='%',\n",
    "    reference=50,\n",
    "    max_books=50)"
   ]
  },
  {
   "cell_type": "markdown",
   "metadata": {},
   "source": [
    "## Undersøk forskjeller\n",
    "\n",
    "Dataene viser forskjellem mellom målkorpus og referanse. Se på differansen med kommandoen *difference* som tar et sett parametre. De viktigste for analysen er *freq_exp* som vekter frekvensen til ordene i målkorpuset, og *doc_exp* som vekter dokumentfrekvensen i målkorpuset.\n",
    "\n",
    "Settes verdien for *top* lik null får du hele korpuset.\n"
   ]
  },
  {
   "cell_type": "code",
   "execution_count": null,
   "metadata": {},
   "outputs": [],
   "source": [
    "objekt.difference(top=10, aslist=False, freq_exp=1.1, doc_exp=1.5)"
   ]
  },
  {
   "cell_type": "code",
   "execution_count": null,
   "metadata": {},
   "outputs": [],
   "source": [
    "objekt.difference(top=150)"
   ]
  },
  {
   "cell_type": "markdown",
   "metadata": {},
   "source": [
    "Legg til summary() for se litt hva korpuset inneholder"
   ]
  },
  {
   "cell_type": "code",
   "execution_count": null,
   "metadata": {},
   "outputs": [],
   "source": [
    "objekt.summary()"
   ]
  },
  {
   "cell_type": "markdown",
   "metadata": {},
   "source": [
    "# Metadata for korpuset kan raskt sjekkes\n",
    "\n",
    "Pass på at ikke korpuset er for stort (mange tusen)."
   ]
  },
  {
   "cell_type": "code",
   "execution_count": null,
   "metadata": {},
   "outputs": [],
   "source": [
    "metadata(objekt.target_urn)"
   ]
  },
  {
   "cell_type": "markdown",
   "metadata": {
    "collapsed": true
   },
   "source": [
    "### Søk etter sett av ord i clustret\n",
    "\n",
    "Finn verdien for ord i clusteret med objekt.check_words('o1 o2 o3 ... oN') med opsjonell spesifikasjon av eksponent. Bare list ordene opp med mellomrom, ord som ikke er i clusteret vil heller ikke vises. Alle andre vises med assosiasjonsverdien og sorteres var høy til lav. Tittel på kolonnen gir en påminnelse om ordet listen er kollokert fra."
   ]
  },
  {
   "cell_type": "code",
   "execution_count": null,
   "metadata": {},
   "outputs": [],
   "source": [
    "objekt.search_words( 'sår krig . , gevær våpen generaler soldater blod fattigdom nød')"
   ]
  }
 ],
 "metadata": {
  "hide_input": false,
  "kernelspec": {
   "display_name": "Python 3",
   "language": "python",
   "name": "python3"
  },
  "language_info": {
   "codemirror_mode": {
    "name": "ipython",
    "version": 3
   },
   "file_extension": ".py",
   "mimetype": "text/x-python",
   "name": "python",
   "nbconvert_exporter": "python",
   "pygments_lexer": "ipython3",
   "version": "3.6.4"
  }
 },
 "nbformat": 4,
 "nbformat_minor": 2
}
